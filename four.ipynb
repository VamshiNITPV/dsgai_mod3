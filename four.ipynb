{
 "cells": [
  {
   "cell_type": "markdown",
   "id": "292614da-b180-4d03-a238-8a4b6fc53bec",
   "metadata": {},
   "source": [
    "# 1.Arithmetic Operators"
   ]
  },
  {
   "cell_type": "code",
   "execution_count": 4,
   "id": "e67eab5a-4820-4329-b717-3787a84cc713",
   "metadata": {},
   "outputs": [
    {
     "data": {
      "text/plain": [
       "10"
      ]
     },
     "execution_count": 4,
     "metadata": {},
     "output_type": "execute_result"
    }
   ],
   "source": [
    "#addition\n",
    "x=6\n",
    "y=4\n",
    "sum=x+y\n",
    "sum"
   ]
  },
  {
   "cell_type": "code",
   "execution_count": 5,
   "id": "2369f348-3e92-41a4-8917-548fd1d7a360",
   "metadata": {},
   "outputs": [
    {
     "data": {
      "text/plain": [
       "2"
      ]
     },
     "execution_count": 5,
     "metadata": {},
     "output_type": "execute_result"
    }
   ],
   "source": [
    "#subtraction\n",
    "diff=x-y\n",
    "diff"
   ]
  },
  {
   "cell_type": "code",
   "execution_count": 6,
   "id": "4ce3ac2d-2f7a-43aa-880f-c05a240bda9b",
   "metadata": {},
   "outputs": [
    {
     "data": {
      "text/plain": [
       "24"
      ]
     },
     "execution_count": 6,
     "metadata": {},
     "output_type": "execute_result"
    }
   ],
   "source": [
    "#multiplication\n",
    "product=x*y\n",
    "product"
   ]
  },
  {
   "cell_type": "code",
   "execution_count": 7,
   "id": "31e1f111-ca30-4923-b34d-538cf2a84d8d",
   "metadata": {},
   "outputs": [
    {
     "data": {
      "text/plain": [
       "1.5"
      ]
     },
     "execution_count": 7,
     "metadata": {},
     "output_type": "execute_result"
    }
   ],
   "source": [
    "#division\n",
    "div=x/y\n",
    "div"
   ]
  },
  {
   "cell_type": "code",
   "execution_count": 8,
   "id": "6936946f-8198-45bd-9472-cf21d8f7f50c",
   "metadata": {},
   "outputs": [
    {
     "data": {
      "text/plain": [
       "1"
      ]
     },
     "execution_count": 8,
     "metadata": {},
     "output_type": "execute_result"
    }
   ],
   "source": [
    "#floor division\n",
    "result=x//y\n",
    "result"
   ]
  },
  {
   "cell_type": "code",
   "execution_count": 9,
   "id": "95117ef0-1f5a-4f3a-a5e4-b0f9584aa721",
   "metadata": {},
   "outputs": [
    {
     "data": {
      "text/plain": [
       "2"
      ]
     },
     "execution_count": 9,
     "metadata": {},
     "output_type": "execute_result"
    }
   ],
   "source": [
    "#modulus\n",
    "result=x%y\n",
    "result"
   ]
  },
  {
   "cell_type": "code",
   "execution_count": 10,
   "id": "e5f878d7-3790-4c7c-b7af-7b544d2b68f0",
   "metadata": {},
   "outputs": [
    {
     "data": {
      "text/plain": [
       "1296"
      ]
     },
     "execution_count": 10,
     "metadata": {},
     "output_type": "execute_result"
    }
   ],
   "source": [
    "#exponentiation\n",
    "result=x**y\n",
    "result"
   ]
  },
  {
   "cell_type": "markdown",
   "id": "d15750ff-d03d-4366-8dca-5219941328b6",
   "metadata": {},
   "source": [
    "# 2.Comparison Operators"
   ]
  },
  {
   "cell_type": "code",
   "execution_count": 3,
   "id": "b0f64540-7910-4ddb-a7ca-29f910802e06",
   "metadata": {},
   "outputs": [
    {
     "name": "stdout",
     "output_type": "stream",
     "text": [
      "False\n"
     ]
    }
   ],
   "source": [
    "# Equal to ('==')\n",
    "x=5\n",
    "y=4\n",
    "res = (x == y)\n",
    "print(res)"
   ]
  },
  {
   "cell_type": "code",
   "execution_count": 16,
   "id": "a8023d7d-fb14-494f-81cc-28aaabf7bf8a",
   "metadata": {},
   "outputs": [
    {
     "data": {
      "text/plain": [
       "True"
      ]
     },
     "execution_count": 16,
     "metadata": {},
     "output_type": "execute_result"
    }
   ],
   "source": [
    "#Not equal to('!=')\n",
    "result=(x!=y)\n",
    "result"
   ]
  },
  {
   "cell_type": "code",
   "execution_count": 17,
   "id": "e97f0c07-9bd6-4958-a6e5-b5b5f1d32c8d",
   "metadata": {},
   "outputs": [
    {
     "data": {
      "text/plain": [
       "True"
      ]
     },
     "execution_count": 17,
     "metadata": {},
     "output_type": "execute_result"
    }
   ],
   "source": [
    "#Greater than (>)\n",
    "result = (x > y)\n",
    "result"
   ]
  },
  {
   "cell_type": "code",
   "execution_count": 18,
   "id": "626bf4a9-1b80-4ab6-a900-e8a796b0affd",
   "metadata": {},
   "outputs": [
    {
     "data": {
      "text/plain": [
       "False"
      ]
     },
     "execution_count": 18,
     "metadata": {},
     "output_type": "execute_result"
    }
   ],
   "source": [
    "#Less than (<)\n",
    "result = (x < y)\n",
    "result"
   ]
  },
  {
   "cell_type": "code",
   "execution_count": 19,
   "id": "01182635-a3c3-4b66-9420-563832642e33",
   "metadata": {},
   "outputs": [
    {
     "data": {
      "text/plain": [
       "True"
      ]
     },
     "execution_count": 19,
     "metadata": {},
     "output_type": "execute_result"
    }
   ],
   "source": [
    "#Greater than or equal to (>=)\n",
    "result = (x >= y)\n",
    "result\n"
   ]
  },
  {
   "cell_type": "code",
   "execution_count": 20,
   "id": "2e60c1be-951b-4d87-a9ce-d617d103207d",
   "metadata": {},
   "outputs": [
    {
     "data": {
      "text/plain": [
       "False"
      ]
     },
     "execution_count": 20,
     "metadata": {},
     "output_type": "execute_result"
    }
   ],
   "source": [
    "#Less than or equal to (<=)\n",
    "result = (x <= y)\n",
    "result"
   ]
  },
  {
   "cell_type": "markdown",
   "id": "2f9cc4c1-c492-463b-9aa0-81307757d101",
   "metadata": {},
   "source": [
    "# 3.Logical Opetators"
   ]
  },
  {
   "cell_type": "code",
   "execution_count": 22,
   "id": "67ebc4a9-4434-44ab-84dd-bb0e6248157b",
   "metadata": {},
   "outputs": [
    {
     "data": {
      "text/plain": [
       "True"
      ]
     },
     "execution_count": 22,
     "metadata": {},
     "output_type": "execute_result"
    }
   ],
   "source": [
    "#Logical AND (and):\n",
    "result = (x > 2 and y < 5)\n",
    "result"
   ]
  },
  {
   "cell_type": "code",
   "execution_count": 23,
   "id": "c54c1084-2b60-428d-9c00-c08a53c7625c",
   "metadata": {},
   "outputs": [
    {
     "data": {
      "text/plain": [
       "True"
      ]
     },
     "execution_count": 23,
     "metadata": {},
     "output_type": "execute_result"
    }
   ],
   "source": [
    "#Logical OR (or):\n",
    "result = (x > 5 or y < 5)\n",
    "result"
   ]
  },
  {
   "cell_type": "code",
   "execution_count": 4,
   "id": "421643fc-5fcb-483e-b535-dfa640bd89ce",
   "metadata": {},
   "outputs": [
    {
     "data": {
      "text/plain": [
       "True"
      ]
     },
     "execution_count": 4,
     "metadata": {},
     "output_type": "execute_result"
    }
   ],
   "source": [
    "#Logical NOT (not):\n",
    "result = not(x > 5)\n",
    "result"
   ]
  },
  {
   "cell_type": "markdown",
   "id": "1d26c0bd-149d-4431-a3f3-6c2fe63d3b32",
   "metadata": {},
   "source": [
    "# 4. Bitwise Operators\n"
   ]
  },
  {
   "cell_type": "code",
   "execution_count": 7,
   "id": "66e2bc5e-f3ee-436c-a00d-7e48f190deed",
   "metadata": {},
   "outputs": [
    {
     "data": {
      "text/plain": [
       "1"
      ]
     },
     "execution_count": 7,
     "metadata": {},
     "output_type": "execute_result"
    }
   ],
   "source": [
    "# AND('&')\n",
    "result = 5 & 3\n",
    "result"
   ]
  },
  {
   "cell_type": "code",
   "execution_count": 8,
   "id": "aac428d8-709a-4828-8100-a954379fe4d9",
   "metadata": {},
   "outputs": [
    {
     "data": {
      "text/plain": [
       "7"
      ]
     },
     "execution_count": 8,
     "metadata": {},
     "output_type": "execute_result"
    }
   ],
   "source": [
    "# OR('|\")\n",
    "result=5|3;\n",
    "result"
   ]
  },
  {
   "cell_type": "code",
   "execution_count": 9,
   "id": "af12e10e-04b2-45ae-85fc-e0074254d8a7",
   "metadata": {},
   "outputs": [
    {
     "data": {
      "text/plain": [
       "6"
      ]
     },
     "execution_count": 9,
     "metadata": {},
     "output_type": "execute_result"
    }
   ],
   "source": [
    "#XOR (^):\n",
    "result = 5 ^ 3\n",
    "result"
   ]
  },
  {
   "cell_type": "code",
   "execution_count": 14,
   "id": "385d6b75-14a7-4662-99fa-7c55482a77a0",
   "metadata": {},
   "outputs": [
    {
     "data": {
      "text/plain": [
       "-6"
      ]
     },
     "execution_count": 14,
     "metadata": {},
     "output_type": "execute_result"
    }
   ],
   "source": [
    "#NOT (~):\n",
    "result = ~5\n",
    "result"
   ]
  },
  {
   "cell_type": "code",
   "execution_count": 15,
   "id": "d54890fd-5cca-446c-8044-392a7bdc1b03",
   "metadata": {},
   "outputs": [
    {
     "data": {
      "text/plain": [
       "10"
      ]
     },
     "execution_count": 15,
     "metadata": {},
     "output_type": "execute_result"
    }
   ],
   "source": [
    "#Left Shift (<<):\n",
    "result = 5 << 1 \n",
    "result"
   ]
  },
  {
   "cell_type": "code",
   "execution_count": 16,
   "id": "cc8a99eb-7034-4c9d-a821-9c2115649048",
   "metadata": {},
   "outputs": [
    {
     "data": {
      "text/plain": [
       "2"
      ]
     },
     "execution_count": 16,
     "metadata": {},
     "output_type": "execute_result"
    }
   ],
   "source": [
    "#Right Shift (>>):\n",
    "result = 5 >> 1 \n",
    "result"
   ]
  },
  {
   "cell_type": "markdown",
   "id": "1571f54f-e305-4234-85b7-fdd4973ca085",
   "metadata": {},
   "source": [
    "# 5. Assignment Operators"
   ]
  },
  {
   "cell_type": "code",
   "execution_count": 18,
   "id": "8c6f359b-0421-4ca8-b5d6-91e0908b1381",
   "metadata": {},
   "outputs": [
    {
     "data": {
      "text/plain": [
       "5"
      ]
     },
     "execution_count": 18,
     "metadata": {},
     "output_type": "execute_result"
    }
   ],
   "source": [
    "#Equal to (=):\n",
    "a = 5\n",
    "a"
   ]
  },
  {
   "cell_type": "code",
   "execution_count": 19,
   "id": "3715035b-1856-427d-bbae-20344ee949e1",
   "metadata": {},
   "outputs": [
    {
     "data": {
      "text/plain": [
       "8"
      ]
     },
     "execution_count": 19,
     "metadata": {},
     "output_type": "execute_result"
    }
   ],
   "source": [
    "#Add and assign (+=):\n",
    "a += 3 \n",
    "a"
   ]
  },
  {
   "cell_type": "code",
   "execution_count": 20,
   "id": "04744872-207b-4118-a0e9-9f9b621b4e87",
   "metadata": {},
   "outputs": [
    {
     "data": {
      "text/plain": [
       "6"
      ]
     },
     "execution_count": 20,
     "metadata": {},
     "output_type": "execute_result"
    }
   ],
   "source": [
    "#Subtract and assign (-=):\n",
    "a -= 2\n",
    "a"
   ]
  },
  {
   "cell_type": "code",
   "execution_count": 21,
   "id": "bb31b48d-7830-4857-a14b-ed6e96d9ca69",
   "metadata": {},
   "outputs": [
    {
     "data": {
      "text/plain": [
       "12"
      ]
     },
     "execution_count": 21,
     "metadata": {},
     "output_type": "execute_result"
    }
   ],
   "source": [
    "#Multiply and assign (*=):\n",
    "a *= 2\n",
    "a"
   ]
  },
  {
   "cell_type": "code",
   "execution_count": 22,
   "id": "0c6d9cb9-0a21-49ce-af75-b4f9b438ccda",
   "metadata": {},
   "outputs": [
    {
     "data": {
      "text/plain": [
       "6.0"
      ]
     },
     "execution_count": 22,
     "metadata": {},
     "output_type": "execute_result"
    }
   ],
   "source": [
    "#Divide and assign (/=):\n",
    "a /= 2\n",
    "a"
   ]
  },
  {
   "cell_type": "code",
   "execution_count": 23,
   "id": "0f02719e-73a1-450f-a5fd-0dd3553c72d0",
   "metadata": {},
   "outputs": [
    {
     "data": {
      "text/plain": [
       "3.0"
      ]
     },
     "execution_count": 23,
     "metadata": {},
     "output_type": "execute_result"
    }
   ],
   "source": [
    "#Floor divide and assign (//=):\n",
    "a //= 2 \n",
    "a"
   ]
  },
  {
   "cell_type": "code",
   "execution_count": 24,
   "id": "85068b84-e403-4e4c-aec1-ac5cbe28352f",
   "metadata": {},
   "outputs": [
    {
     "data": {
      "text/plain": [
       "0.0"
      ]
     },
     "execution_count": 24,
     "metadata": {},
     "output_type": "execute_result"
    }
   ],
   "source": [
    "#Modulus and assign (%=):\n",
    "a %= 3\n",
    "a"
   ]
  },
  {
   "cell_type": "code",
   "execution_count": 27,
   "id": "0b536c5e-d26e-475d-8da8-652fa27a825a",
   "metadata": {},
   "outputs": [
    {
     "data": {
      "text/plain": [
       "0.0"
      ]
     },
     "execution_count": 27,
     "metadata": {},
     "output_type": "execute_result"
    }
   ],
   "source": [
    "#Exponentiate and assign (**=):\n",
    "a **= 2 \n",
    "a"
   ]
  },
  {
   "cell_type": "markdown",
   "id": "9b844587-3233-4c91-afea-c28560db031f",
   "metadata": {},
   "source": [
    "# 6. Identity Operators"
   ]
  },
  {
   "cell_type": "code",
   "execution_count": 33,
   "id": "f6f1f6d4-0a17-4b62-8765-8fb4f2ce5f7e",
   "metadata": {},
   "outputs": [
    {
     "data": {
      "text/plain": [
       "True"
      ]
     },
     "execution_count": 33,
     "metadata": {},
     "output_type": "execute_result"
    }
   ],
   "source": [
    "#Is (is):\n",
    "a = [1, 2, 3]\n",
    "b = a\n",
    "result = a is b\n",
    "result"
   ]
  },
  {
   "cell_type": "code",
   "execution_count": 34,
   "id": "a8df223e-0765-4776-adf2-7bb7d460c1f1",
   "metadata": {},
   "outputs": [
    {
     "data": {
      "text/plain": [
       "True"
      ]
     },
     "execution_count": 34,
     "metadata": {},
     "output_type": "execute_result"
    }
   ],
   "source": [
    "#Is not (is not):\n",
    "a = [1, 2, 3]\n",
    "b = a[:]\n",
    "result = a is not b \n",
    "result\n"
   ]
  },
  {
   "cell_type": "markdown",
   "id": "db571fed-7065-4660-b3ce-b8f9ff4aa3c7",
   "metadata": {},
   "source": [
    "# 7. Membership Operators\n"
   ]
  },
  {
   "cell_type": "code",
   "execution_count": 35,
   "id": "96ee79e7-774c-48a2-803b-b5841bf6bff6",
   "metadata": {},
   "outputs": [
    {
     "data": {
      "text/plain": [
       "True"
      ]
     },
     "execution_count": 35,
     "metadata": {},
     "output_type": "execute_result"
    }
   ],
   "source": [
    "#In (in):\n",
    "result = 'a' in 'apple'\n",
    "result"
   ]
  },
  {
   "cell_type": "code",
   "execution_count": 36,
   "id": "6d1f50f1-2860-49bb-a2ae-f4644fb8cf7b",
   "metadata": {},
   "outputs": [
    {
     "data": {
      "text/plain": [
       "True"
      ]
     },
     "execution_count": 36,
     "metadata": {},
     "output_type": "execute_result"
    }
   ],
   "source": [
    "#Not in (not in):\n",
    "result = 'b' not in 'apple'\n",
    "result"
   ]
  },
  {
   "cell_type": "code",
   "execution_count": null,
   "id": "76becc64-bdf3-4ebc-889c-8f052d43c2b1",
   "metadata": {},
   "outputs": [],
   "source": []
  }
 ],
 "metadata": {
  "kernelspec": {
   "display_name": "Python 3 (ipykernel)",
   "language": "python",
   "name": "python3"
  },
  "language_info": {
   "codemirror_mode": {
    "name": "ipython",
    "version": 3
   },
   "file_extension": ".py",
   "mimetype": "text/x-python",
   "name": "python",
   "nbconvert_exporter": "python",
   "pygments_lexer": "ipython3",
   "version": "3.10.8"
  }
 },
 "nbformat": 4,
 "nbformat_minor": 5
}
