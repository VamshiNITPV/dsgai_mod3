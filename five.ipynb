{
 "cells": [
  {
   "cell_type": "markdown",
   "id": "1b82377c-e650-400d-b5c7-870ba9385e35",
   "metadata": {},
   "source": [
    "# 1. Implicit Type Casting"
   ]
  },
  {
   "cell_type": "markdown",
   "id": "9a5de8cd-15bc-449f-9ce7-e6fb9e27cbf7",
   "metadata": {},
   "source": [
    "Implicit type casting is performed automatically by Python."
   ]
  },
  {
   "cell_type": "code",
   "execution_count": 1,
   "id": "70dde167-de7f-4478-a866-cb318549f26c",
   "metadata": {},
   "outputs": [
    {
     "name": "stdout",
     "output_type": "stream",
     "text": [
      "7.5\n"
     ]
    }
   ],
   "source": [
    "a = 5      # int\n",
    "b = 2.5    # float\n",
    "c = a + b  # c will be float because Python implicitly converts the result to float\n",
    "print(c)   # Output: 7.5"
   ]
  },
  {
   "cell_type": "markdown",
   "id": "9f664c0d-7604-4275-b7af-3167084b61c0",
   "metadata": {},
   "source": [
    "# 2. Explicit Type Casting"
   ]
  },
  {
   "cell_type": "markdown",
   "id": "7394aa56-17cf-473e-a629-39e309a0bba1",
   "metadata": {},
   "source": [
    "Explicit type casting is performed manually by the programmer using Python's built-in functions. The most common functions for explicit type casting are int(), float(), str(), and bool()."
   ]
  },
  {
   "cell_type": "code",
   "execution_count": 2,
   "id": "83b39434-44b0-48da-ad30-ffa14b559293",
   "metadata": {},
   "outputs": [
    {
     "name": "stdout",
     "output_type": "stream",
     "text": [
      "3\n",
      "123\n"
     ]
    }
   ],
   "source": [
    "#integer casting\n",
    "# From float to int\n",
    "a = 3.14\n",
    "b = int(a)\n",
    "print(b)  # Output: 3\n",
    "\n",
    "# From string to int\n",
    "a = \"123\"\n",
    "b = int(a)\n",
    "print(b)  # Output: 123"
   ]
  },
  {
   "cell_type": "code",
   "execution_count": 3,
   "id": "9ad6d6fd-d387-4413-b871-794ee4be9ca3",
   "metadata": {},
   "outputs": [
    {
     "name": "stdout",
     "output_type": "stream",
     "text": [
      "5.0\n",
      "3.14\n"
     ]
    }
   ],
   "source": [
    "#Float Casting\n",
    "# From int to float\n",
    "a = 5\n",
    "b = float(a)\n",
    "print(b)  # Output: 5.0\n",
    "\n",
    "# From string to float\n",
    "a = \"3.14\"\n",
    "b = float(a)\n",
    "print(b)  # Output: 3.14"
   ]
  },
  {
   "cell_type": "code",
   "execution_count": 4,
   "id": "7a3bf667-a0e2-465b-9a99-44562e3a4991",
   "metadata": {},
   "outputs": [
    {
     "name": "stdout",
     "output_type": "stream",
     "text": [
      "10\n",
      "5.75\n"
     ]
    }
   ],
   "source": [
    "#String Casting\n",
    "# From int to string\n",
    "a = 10\n",
    "b = str(a)\n",
    "print(b)  # Output: \"10\"\n",
    "\n",
    "# From float to string\n",
    "a = 5.75\n",
    "b = str(a)\n",
    "print(b)  # Output: \"5.75\""
   ]
  },
  {
   "cell_type": "code",
   "execution_count": 5,
   "id": "401a7ad9-a347-4a4f-8345-4788e4357056",
   "metadata": {},
   "outputs": [
    {
     "name": "stdout",
     "output_type": "stream",
     "text": [
      "False\n",
      "True\n",
      "False\n",
      "True\n"
     ]
    }
   ],
   "source": [
    "#Boolean Casting\n",
    "# From int to boolean\n",
    "a = 0\n",
    "b = bool(a)\n",
    "print(b)  # Output: False\n",
    "\n",
    "a = 1\n",
    "b = bool(a)\n",
    "print(b)  # Output: True\n",
    "\n",
    "# From string to boolean\n",
    "a = \"\"\n",
    "b = bool(a)\n",
    "print(b)  # Output: False\n",
    "\n",
    "a = \"Hello\"\n",
    "b = bool(a)\n",
    "print(b)  # Output: True"
   ]
  },
  {
   "cell_type": "code",
   "execution_count": null,
   "id": "cc7c85da-aadc-4bbb-8e2c-0ef1a05b3fe5",
   "metadata": {},
   "outputs": [],
   "source": []
  }
 ],
 "metadata": {
  "kernelspec": {
   "display_name": "Python 3 (ipykernel)",
   "language": "python",
   "name": "python3"
  },
  "language_info": {
   "codemirror_mode": {
    "name": "ipython",
    "version": 3
   },
   "file_extension": ".py",
   "mimetype": "text/x-python",
   "name": "python",
   "nbconvert_exporter": "python",
   "pygments_lexer": "ipython3",
   "version": "3.10.8"
  }
 },
 "nbformat": 4,
 "nbformat_minor": 5
}
