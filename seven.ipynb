{
 "cells": [
  {
   "cell_type": "markdown",
   "id": "2144e88e-c589-49aa-98b3-d31c55f69e69",
   "metadata": {},
   "source": [
    "There are two primary types of loops: for loops and while loops. Each type has its use cases, allowing you to iterate over a sequence of elements or execute a block of code repeatedly while a condition holds true."
   ]
  },
  {
   "cell_type": "markdown",
   "id": "28b9e6f8-801d-49ed-88f2-c646ed748317",
   "metadata": {},
   "source": [
    "# 1. for Loop\n"
   ]
  },
  {
   "cell_type": "markdown",
   "id": "fea2921f-6c2c-4c42-b274-0c796df89bf3",
   "metadata": {},
   "source": [
    "The for loop in Python is used to iterate over a sequence (such as a list, tuple, dictionary, set, or string) and perform a block of code for each element in the sequence.\n",
    "\n"
   ]
  },
  {
   "cell_type": "code",
   "execution_count": 3,
   "id": "6999587b-0674-4894-9532-6398570c8482",
   "metadata": {},
   "outputs": [
    {
     "name": "stdout",
     "output_type": "stream",
     "text": [
      "['apple', 'banana', 'cherry']\n",
      "['apple', 'banana', 'cherry']\n",
      "['apple', 'banana', 'cherry']\n"
     ]
    }
   ],
   "source": [
    "fruits = [\"apple\", \"banana\", \"cherry\"]\n",
    "for f in fruits:\n",
    "    print(fruits)"
   ]
  },
  {
   "cell_type": "code",
   "execution_count": 4,
   "id": "09f31972-b392-4e40-8e09-c1b1cef80da1",
   "metadata": {},
   "outputs": [
    {
     "name": "stdout",
     "output_type": "stream",
     "text": [
      "0\n",
      "1\n",
      "2\n",
      "3\n",
      "4\n"
     ]
    }
   ],
   "source": [
    "for i in range(5):\n",
    "    print(i)"
   ]
  },
  {
   "cell_type": "code",
   "execution_count": 5,
   "id": "1ed400e2-538f-47c8-9226-2dca413381dd",
   "metadata": {},
   "outputs": [
    {
     "name": "stdout",
     "output_type": "stream",
     "text": [
      "name: John\n",
      "age: 30\n",
      "city: New York\n"
     ]
    }
   ],
   "source": [
    "#iterating over dictionary\n",
    "person = {\"name\": \"John\", \"age\": 30, \"city\": \"New York\"}\n",
    "for key, value in person.items():\n",
    "    print(f\"{key}: {value}\")"
   ]
  },
  {
   "cell_type": "markdown",
   "id": "e3f61055-63a1-40a2-9587-b4853206fb49",
   "metadata": {},
   "source": [
    "# 2. while Loop"
   ]
  },
  {
   "cell_type": "markdown",
   "id": "ba700cea-441f-4b78-b27f-c5bafa215775",
   "metadata": {},
   "source": [
    "The while loop executes a block of code as long as a specified condition is True. It is useful when the number of iterations is not known beforehand and depends on a condition."
   ]
  },
  {
   "cell_type": "code",
   "execution_count": 6,
   "id": "a7183f19-bd54-4d71-861b-90f287dabd32",
   "metadata": {},
   "outputs": [
    {
     "name": "stdout",
     "output_type": "stream",
     "text": [
      "0\n",
      "1\n",
      "2\n",
      "3\n",
      "4\n"
     ]
    }
   ],
   "source": [
    "count = 0\n",
    "while count < 5:\n",
    "    print(count)\n",
    "    count += 1"
   ]
  },
  {
   "cell_type": "code",
   "execution_count": 7,
   "id": "09e41311-05af-4dac-a82f-e50e0e573286",
   "metadata": {},
   "outputs": [
    {
     "name": "stdin",
     "output_type": "stream",
     "text": [
      "Type 'exit' to stop:  j\n",
      "Type 'exit' to stop:  exit\n"
     ]
    },
    {
     "name": "stdout",
     "output_type": "stream",
     "text": [
      "Loop ended\n"
     ]
    }
   ],
   "source": [
    "while True:\n",
    "    response = input(\"Type 'exit' to stop: \")\n",
    "    if response == \"exit\":\n",
    "        break\n",
    "print(\"Loop ended\")"
   ]
  },
  {
   "cell_type": "code",
   "execution_count": null,
   "id": "e551c25a-baa0-4ffa-8f21-3afa8a4bf97d",
   "metadata": {},
   "outputs": [],
   "source": []
  }
 ],
 "metadata": {
  "kernelspec": {
   "display_name": "Python 3 (ipykernel)",
   "language": "python",
   "name": "python3"
  },
  "language_info": {
   "codemirror_mode": {
    "name": "ipython",
    "version": 3
   },
   "file_extension": ".py",
   "mimetype": "text/x-python",
   "name": "python",
   "nbconvert_exporter": "python",
   "pygments_lexer": "ipython3",
   "version": "3.10.8"
  }
 },
 "nbformat": 4,
 "nbformat_minor": 5
}
