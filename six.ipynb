{
 "cells": [
  {
   "cell_type": "markdown",
   "id": "bb0fbc46-b543-484b-802f-36779262d8af",
   "metadata": {},
   "source": [
    "# 1. if Statement"
   ]
  },
  {
   "cell_type": "markdown",
   "id": "511672ba-01be-4430-afeb-a91e52b84e3c",
   "metadata": {},
   "source": [
    "The if statement is used to test a condition. If the condition evaluates to True, the block of code within the if statement is executed."
   ]
  },
  {
   "cell_type": "code",
   "execution_count": 1,
   "id": "e7d0f70c-efd1-4787-83fa-1571f794a3ad",
   "metadata": {},
   "outputs": [
    {
     "name": "stdout",
     "output_type": "stream",
     "text": [
      "x is greater than 5\n"
     ]
    }
   ],
   "source": [
    "x = 10\n",
    "if x > 5:\n",
    "    print(\"x is greater than 5\")  # Output: x is greater than 5"
   ]
  },
  {
   "cell_type": "markdown",
   "id": "a6655379-563d-401b-928f-1bc7188e86ef",
   "metadata": {},
   "source": [
    "# 2. elif Statement"
   ]
  },
  {
   "cell_type": "markdown",
   "id": "3090237b-c0a7-44a0-9a0b-ae8ef6f32834",
   "metadata": {},
   "source": [
    "The elif (short for \"else if\") statement allows you to check multiple conditions. If the initial if condition is False, the elif statement is evaluated."
   ]
  },
  {
   "cell_type": "code",
   "execution_count": 2,
   "id": "c2513757-3559-4b8b-9bbf-bffecaf07117",
   "metadata": {},
   "outputs": [
    {
     "name": "stdout",
     "output_type": "stream",
     "text": [
      "x is greater than 5 but less than or equal to 15\n"
     ]
    }
   ],
   "source": [
    "x = 10\n",
    "if x > 15:\n",
    "    print(\"x is greater than 15\")\n",
    "elif x > 5:\n",
    "    print(\"x is greater than 5 but less than or equal to 15\")  # Output: x is greater than 5 but less than or equal to 15"
   ]
  },
  {
   "cell_type": "markdown",
   "id": "3d0a75b0-196c-4cff-b986-4292368ade53",
   "metadata": {},
   "source": [
    "# 3. else Statement"
   ]
  },
  {
   "cell_type": "markdown",
   "id": "a7fcba9c-61c1-4329-ab11-d400fd98e8a2",
   "metadata": {},
   "source": [
    "The else statement catches anything that wasn't caught by the preceding if and elif statements. It executes a block of code if none of the previous conditions were True."
   ]
  },
  {
   "cell_type": "code",
   "execution_count": 3,
   "id": "faf3fd52-d42d-467d-b7ba-1c8b3884576b",
   "metadata": {},
   "outputs": [
    {
     "name": "stdout",
     "output_type": "stream",
     "text": [
      "x is 5 or less\n"
     ]
    }
   ],
   "source": [
    "x = 3\n",
    "if x > 15:\n",
    "    print(\"x is greater than 15\")\n",
    "elif x > 5:\n",
    "    print(\"x is greater than 5 but less than or equal to 15\")\n",
    "else:\n",
    "    print(\"x is 5 or less\")  # Output: x is 5 or less"
   ]
  },
  {
   "cell_type": "markdown",
   "id": "1f785a35-5310-4eab-9cc2-29c15d098ec5",
   "metadata": {},
   "source": [
    "# 4. Nested Conditional Statements"
   ]
  },
  {
   "cell_type": "markdown",
   "id": "4942e4cb-bf43-4d4c-a1e2-fcfc69b8c8dd",
   "metadata": {},
   "source": [
    "You can nest if, elif, and else statements within each other to check more complex conditions."
   ]
  },
  {
   "cell_type": "code",
   "execution_count": 4,
   "id": "ed293034-e5f7-43e5-89fd-2820a96b6730",
   "metadata": {},
   "outputs": [
    {
     "name": "stdout",
     "output_type": "stream",
     "text": [
      "x is greater than 5 and y is greater than 15\n"
     ]
    }
   ],
   "source": [
    "x = 10\n",
    "y = 20\n",
    "if x > 5:\n",
    "    if y > 15:\n",
    "        print(\"x is greater than 5 and y is greater than 15\")  # Output: x is greater than 5 and y is greater than 15\n",
    "    else:\n",
    "        print(\"x is greater than 5 but y is not greater than 15\")\n",
    "else:\n",
    "    print(\"x is 5 or less\")"
   ]
  },
  {
   "cell_type": "code",
   "execution_count": null,
   "id": "0fa0ecf5-4526-4b8d-b230-adbcc0f138f3",
   "metadata": {},
   "outputs": [],
   "source": []
  }
 ],
 "metadata": {
  "kernelspec": {
   "display_name": "Python 3 (ipykernel)",
   "language": "python",
   "name": "python3"
  },
  "language_info": {
   "codemirror_mode": {
    "name": "ipython",
    "version": 3
   },
   "file_extension": ".py",
   "mimetype": "text/x-python",
   "name": "python",
   "nbconvert_exporter": "python",
   "pygments_lexer": "ipython3",
   "version": "3.10.8"
  }
 },
 "nbformat": 4,
 "nbformat_minor": 5
}
